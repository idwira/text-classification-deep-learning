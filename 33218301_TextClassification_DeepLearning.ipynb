{
 "cells": [
  {
   "cell_type": "code",
   "execution_count": 0,
   "metadata": {
    "colab": {},
    "colab_type": "code",
    "id": "f07N7QpgXtfy"
   },
   "outputs": [],
   "source": [
    "#Import Library\n",
    "import pickle\n",
    "import numpy as np"
   ]
  },
  {
   "cell_type": "code",
   "execution_count": 0,
   "metadata": {
    "colab": {},
    "colab_type": "code",
    "id": "yV4aQNhoXtf8"
   },
   "outputs": [],
   "source": [
    "#Mengambil data training yg sudah disiapkan .txt file\n",
    "with open('train_qa.txt', 'rb') as f:\n",
    "    train_data = pickle.load(f)"
   ]
  },
  {
   "cell_type": "code",
   "execution_count": 0,
   "metadata": {
    "colab": {},
    "colab_type": "code",
    "id": "TG8YygAlXtf_"
   },
   "outputs": [],
   "source": [
    "#Mengambil data untuk test yg sudah disiapkan .txt file\n",
    "with open('test_qa.txt', 'rb') as f:\n",
    "    test_data = pickle.load(f)"
   ]
  },
  {
   "cell_type": "code",
   "execution_count": 4,
   "metadata": {
    "colab": {
     "base_uri": "https://localhost:8080/",
     "height": 35
    },
    "colab_type": "code",
    "id": "mfqdu_xRXtgG",
    "outputId": "0ca519d3-eea6-4ad1-b59c-0855236f3df2"
   },
   "outputs": [
    {
     "data": {
      "text/plain": [
       "10000"
      ]
     },
     "execution_count": 4,
     "metadata": {
      "tags": []
     },
     "output_type": "execute_result"
    }
   ],
   "source": [
    "#Melihat jumlah sampel data training\n",
    "len(train_data)"
   ]
  },
  {
   "cell_type": "code",
   "execution_count": 5,
   "metadata": {
    "colab": {
     "base_uri": "https://localhost:8080/",
     "height": 35
    },
    "colab_type": "code",
    "id": "Md8Z0paOXtgO",
    "outputId": "5f1e34f2-4655-48c7-f431-9ce9f59577a2"
   },
   "outputs": [
    {
     "data": {
      "text/plain": [
       "1000"
      ]
     },
     "execution_count": 5,
     "metadata": {
      "tags": []
     },
     "output_type": "execute_result"
    }
   ],
   "source": [
    "#Melihat jumlah sampel data test \n",
    "len(test_data)"
   ]
  },
  {
   "cell_type": "code",
   "execution_count": 6,
   "metadata": {
    "colab": {
     "base_uri": "https://localhost:8080/",
     "height": 277
    },
    "colab_type": "code",
    "id": "Tqpkjh7XXtgV",
    "outputId": "17598925-2d62-4ace-d776-58725d08dbce"
   },
   "outputs": [
    {
     "data": {
      "text/plain": [
       "(['Sandra',\n",
       "  'went',\n",
       "  'back',\n",
       "  'to',\n",
       "  'the',\n",
       "  'hallway',\n",
       "  '.',\n",
       "  'Sandra',\n",
       "  'moved',\n",
       "  'to',\n",
       "  'the',\n",
       "  'office',\n",
       "  '.'],\n",
       " ['Is', 'Sandra', 'in', 'the', 'office', '?'],\n",
       " 'yes')"
      ]
     },
     "execution_count": 6,
     "metadata": {
      "tags": []
     },
     "output_type": "execute_result"
    }
   ],
   "source": [
    "#Contoh dari salah satu sampel data training\n",
    "train_data[10]"
   ]
  },
  {
   "cell_type": "code",
   "execution_count": 7,
   "metadata": {
    "colab": {
     "base_uri": "https://localhost:8080/",
     "height": 35
    },
    "colab_type": "code",
    "id": "kNUukpBcXtgd",
    "outputId": "af7a944d-131d-4ef0-f93f-361953df84f2"
   },
   "outputs": [
    {
     "data": {
      "text/plain": [
       "'Sandra went back to the hallway . Sandra moved to the office .'"
      ]
     },
     "execution_count": 7,
     "metadata": {
      "tags": []
     },
     "output_type": "execute_result"
    }
   ],
   "source": [
    "' '.join(train_data[10][0])"
   ]
  },
  {
   "cell_type": "code",
   "execution_count": 8,
   "metadata": {
    "colab": {
     "base_uri": "https://localhost:8080/",
     "height": 35
    },
    "colab_type": "code",
    "id": "0QjQDYURXtgk",
    "outputId": "36b1d508-56ae-466a-84ce-4c8324044c4b"
   },
   "outputs": [
    {
     "data": {
      "text/plain": [
       "'Is Sandra in the office ?'"
      ]
     },
     "execution_count": 8,
     "metadata": {
      "tags": []
     },
     "output_type": "execute_result"
    }
   ],
   "source": [
    "' '.join(train_data[10][1])"
   ]
  },
  {
   "cell_type": "code",
   "execution_count": 9,
   "metadata": {
    "colab": {
     "base_uri": "https://localhost:8080/",
     "height": 35
    },
    "colab_type": "code",
    "id": "THOGh504Xtgq",
    "outputId": "1ffd79d4-849a-4d61-b1b7-47bba53ab4b0"
   },
   "outputs": [
    {
     "data": {
      "text/plain": [
       "'yes'"
      ]
     },
     "execution_count": 9,
     "metadata": {
      "tags": []
     },
     "output_type": "execute_result"
    }
   ],
   "source": [
    "train_data[10][2]"
   ]
  },
  {
   "cell_type": "code",
   "execution_count": 0,
   "metadata": {
    "colab": {},
    "colab_type": "code",
    "id": "cPhfVZ9jXtgx"
   },
   "outputs": [],
   "source": [
    "#Langkah pertama adalah membangun vocabulary dengan data txt kita\n",
    "#Akan digunakan training datanya saja\n",
    "#Nantinya mungkin mesti digunakan baik training maupun test set nya\n",
    "#karena dataset nya hanya sedikit kata-kata nya"
   ]
  },
  {
   "cell_type": "code",
   "execution_count": 0,
   "metadata": {
    "colab": {},
    "colab_type": "code",
    "id": "QTxFtuUKXtg5"
   },
   "outputs": [],
   "source": [
    "#Pertama akan dibangun satu set dari semua kata-kata di dataset\n",
    "vocab = set()\n",
    "for story, question, answer in train_data:\n",
    "    vocab = vocab.union(set(story)) #Set mengeluarkan kata-kata unik pada kalimat\n",
    "                                    #Union menyatukan elemen unik yg sama dari suatu pasang set\n",
    "    vocab = vocab.union(set(question))"
   ]
  },
  {
   "cell_type": "code",
   "execution_count": 0,
   "metadata": {
    "colab": {},
    "colab_type": "code",
    "id": "lEuf5SCtXtg_"
   },
   "outputs": [],
   "source": [
    "#Menambah kata-kata 'no' dan 'yes' pada vocabulary\n",
    "vocab.add('no')\n",
    "vocab.add('yes')"
   ]
  },
  {
   "cell_type": "code",
   "execution_count": 13,
   "metadata": {
    "colab": {
     "base_uri": "https://localhost:8080/",
     "height": 659
    },
    "colab_type": "code",
    "id": "dw909JgCXthC",
    "outputId": "38a23400-665b-4cb2-e22f-2a148b918e5a"
   },
   "outputs": [
    {
     "data": {
      "text/plain": [
       "{'.',\n",
       " '?',\n",
       " 'Daniel',\n",
       " 'Is',\n",
       " 'John',\n",
       " 'Mary',\n",
       " 'Sandra',\n",
       " 'apple',\n",
       " 'back',\n",
       " 'bathroom',\n",
       " 'bedroom',\n",
       " 'discarded',\n",
       " 'down',\n",
       " 'dropped',\n",
       " 'football',\n",
       " 'garden',\n",
       " 'got',\n",
       " 'grabbed',\n",
       " 'hallway',\n",
       " 'in',\n",
       " 'journeyed',\n",
       " 'kitchen',\n",
       " 'left',\n",
       " 'milk',\n",
       " 'moved',\n",
       " 'no',\n",
       " 'office',\n",
       " 'picked',\n",
       " 'put',\n",
       " 'the',\n",
       " 'there',\n",
       " 'to',\n",
       " 'took',\n",
       " 'travelled',\n",
       " 'up',\n",
       " 'went',\n",
       " 'yes'}"
      ]
     },
     "execution_count": 13,
     "metadata": {
      "tags": []
     },
     "output_type": "execute_result"
    }
   ],
   "source": [
    "vocab"
   ]
  },
  {
   "cell_type": "code",
   "execution_count": 0,
   "metadata": {
    "colab": {},
    "colab_type": "code",
    "id": "QefymJTYXthF"
   },
   "outputs": [],
   "source": [
    "#Kalkulasi panjang vocab (len) dan menambah 1 untuk placeholder Keras\n",
    "#Placeholder digunakan untuk feed in datanya ke network. \n",
    "vocab_len = len(vocab) + 1"
   ]
  },
  {
   "cell_type": "code",
   "execution_count": 15,
   "metadata": {
    "colab": {
     "base_uri": "https://localhost:8080/",
     "height": 35
    },
    "colab_type": "code",
    "id": "IOnZ0hkzXthK",
    "outputId": "960a62ca-9fd3-483a-b2f5-6664eb693e91"
   },
   "outputs": [
    {
     "data": {
      "text/plain": [
       "38"
      ]
     },
     "execution_count": 15,
     "metadata": {
      "tags": []
     },
     "output_type": "execute_result"
    }
   ],
   "source": [
    "vocab_len"
   ]
  },
  {
   "cell_type": "code",
   "execution_count": 0,
   "metadata": {
    "colab": {},
    "colab_type": "code",
    "id": "fioXkwE5XthV"
   },
   "outputs": [],
   "source": [
    "#Sekarang akan dikalkulasi story terpanjang dan question terpanjang\n",
    "#Dibutuhkan untuk Keras pad sequences.\n",
    "#Training layer Keras inputnya mesti sama length nya \n",
    "#Jadi kita butuh untuk pad\n",
    "all_data = test_data + train_data"
   ]
  },
  {
   "cell_type": "code",
   "execution_count": 0,
   "metadata": {
    "colab": {},
    "colab_type": "code",
    "id": "Dzm1vobWXthc"
   },
   "outputs": [],
   "source": [
    "all_story_lens = [len(data[0]) for data in all_data]"
   ]
  },
  {
   "cell_type": "code",
   "execution_count": 0,
   "metadata": {
    "colab": {},
    "colab_type": "code",
    "id": "H8tb-wwiXthh"
   },
   "outputs": [],
   "source": [
    "max_story_len = (max(all_story_lens))"
   ]
  },
  {
   "cell_type": "code",
   "execution_count": 0,
   "metadata": {
    "colab": {},
    "colab_type": "code",
    "id": "byivOwWdXthp"
   },
   "outputs": [],
   "source": [
    "max_question_len = max([len(data[1]) for data in all_data])"
   ]
  },
  {
   "cell_type": "code",
   "execution_count": 20,
   "metadata": {
    "colab": {
     "base_uri": "https://localhost:8080/",
     "height": 99
    },
    "colab_type": "code",
    "id": "2MbkuIUtXthu",
    "outputId": "b176c85e-ae2d-4225-ec5f-0d760b3601bb"
   },
   "outputs": [
    {
     "name": "stderr",
     "output_type": "stream",
     "text": [
      "Using TensorFlow backend.\n"
     ]
    },
    {
     "data": {
      "text/html": [
       "<p style=\"color: red;\">\n",
       "The default version of TensorFlow in Colab will soon switch to TensorFlow 2.x.<br>\n",
       "We recommend you <a href=\"https://www.tensorflow.org/guide/migrate\" target=\"_blank\">upgrade</a> now \n",
       "or ensure your notebook will continue to use TensorFlow 1.x via the <code>%tensorflow_version 1.x</code> magic:\n",
       "<a href=\"https://colab.research.google.com/notebooks/tensorflow_version.ipynb\" target=\"_blank\">more info</a>.</p>\n"
      ],
      "text/plain": [
       "<IPython.core.display.HTML object>"
      ]
     },
     "metadata": {
      "tags": []
     },
     "output_type": "display_data"
    }
   ],
   "source": [
    "#Import pad_sequences dan Tokenizer\n",
    "from keras.preprocessing.sequence import pad_sequences\n",
    "from keras.preprocessing.text import Tokenizer"
   ]
  },
  {
   "cell_type": "code",
   "execution_count": 0,
   "metadata": {
    "colab": {},
    "colab_type": "code",
    "id": "rxM-pNlzXth0"
   },
   "outputs": [],
   "source": [
    "#Membuat sebuah instance dari objek yang di tokenize\n",
    "tokenizer = Tokenizer(filters = [])\n",
    "tokenizer.fit_on_texts(vocab)"
   ]
  },
  {
   "cell_type": "code",
   "execution_count": 22,
   "metadata": {
    "colab": {
     "base_uri": "https://localhost:8080/",
     "height": 659
    },
    "colab_type": "code",
    "id": "wZd9DvsDXth7",
    "outputId": "57a28650-161a-42b4-8883-7cc70fb44d35"
   },
   "outputs": [
    {
     "data": {
      "text/plain": [
       "{'.': 4,\n",
       " '?': 20,\n",
       " 'apple': 19,\n",
       " 'back': 32,\n",
       " 'bathroom': 6,\n",
       " 'bedroom': 28,\n",
       " 'daniel': 1,\n",
       " 'discarded': 37,\n",
       " 'down': 17,\n",
       " 'dropped': 10,\n",
       " 'football': 34,\n",
       " 'garden': 2,\n",
       " 'got': 18,\n",
       " 'grabbed': 9,\n",
       " 'hallway': 23,\n",
       " 'in': 14,\n",
       " 'is': 25,\n",
       " 'john': 22,\n",
       " 'journeyed': 24,\n",
       " 'kitchen': 31,\n",
       " 'left': 15,\n",
       " 'mary': 36,\n",
       " 'milk': 8,\n",
       " 'moved': 16,\n",
       " 'no': 27,\n",
       " 'office': 13,\n",
       " 'picked': 5,\n",
       " 'put': 11,\n",
       " 'sandra': 21,\n",
       " 'the': 30,\n",
       " 'there': 3,\n",
       " 'to': 29,\n",
       " 'took': 7,\n",
       " 'travelled': 33,\n",
       " 'up': 12,\n",
       " 'went': 26,\n",
       " 'yes': 35}"
      ]
     },
     "execution_count": 22,
     "metadata": {
      "tags": []
     },
     "output_type": "execute_result"
    }
   ],
   "source": [
    "#Dictionary yang memetakan setiap kata di vocab ke sebuah index\n",
    "#Sudah otmatis di lowercase\n",
    "#Tokenizer ini dapat memberikan index yang berbeda untuk kata yg berbeda,tergantung kapan kita run\n",
    "tokenizer.word_index"
   ]
  },
  {
   "cell_type": "code",
   "execution_count": 0,
   "metadata": {
    "colab": {},
    "colab_type": "code",
    "id": "yy-cyoZAZk-l"
   },
   "outputs": [],
   "source": [
    "#Tokenize stories, questions dan answers:\n",
    "train_story_text = []\n",
    "train_question_text = []\n",
    "train_answers = []"
   ]
  },
  {
   "cell_type": "code",
   "execution_count": 0,
   "metadata": {
    "colab": {},
    "colab_type": "code",
    "id": "Beka1rIPZsHI"
   },
   "outputs": [],
   "source": [
    "#Memisahkan setiap elements\n",
    "for story,question,answer in train_data:\n",
    "    train_story_text.append(story)\n",
    "    train_question_text.append(question) \n",
    "    train_answers.append(answer)"
   ]
  },
  {
   "cell_type": "code",
   "execution_count": 0,
   "metadata": {
    "colab": {},
    "colab_type": "code",
    "id": "LdDjGEElZyvX"
   },
   "outputs": [],
   "source": [
    "#KOnversi teks menjadi index-index \n",
    "train_story_seq = tokenizer.texts_to_sequences(train_story_text)"
   ]
  },
  {
   "cell_type": "code",
   "execution_count": 0,
   "metadata": {
    "colab": {},
    "colab_type": "code",
    "id": "xzbEXKyPZ38L"
   },
   "outputs": [],
   "source": [
    "#Membuat sebuah fungsi untuk vectorizing stories, questions dan answers nya:\n",
    "def vectorize_stories(data,word_index = tokenizer.word_index, max_story_len = max_story_len, max_question_len = max_question_len):\n",
    "    #pertama vectorized stories:\n",
    "    X = []\n",
    "    #lalu vectorized questions:\n",
    "    Xq = []\n",
    "    #dan vectorized answers:\n",
    "    Y = []\n",
    "    \n",
    "    for story, question, answer in data:\n",
    "        #Mendapatkan index-index untuk setiap kata di Story\n",
    "        x = [word_index[word.lower()] for word in story]\n",
    "        #Mendapatkan index-index untuk setiap kata di Question\n",
    "        xq = [word_index[word.lower()] for word in question]\n",
    "        #Untuk jawaban-jawaban (answers)\n",
    "        y = np.zeros(len(word_index) + 1) #Index 0 di reserve saat padding sequences nya\n",
    "        y[word_index[answer]] = 1\n",
    "        \n",
    "        X.append(x)\n",
    "        Xq.append(xq)\n",
    "        Y.append(y)\n",
    "        \n",
    "    #Sekarang kita harus pad sequence-sequence ini:\n",
    "    return(pad_sequences(X,maxlen=max_story_len), pad_sequences(Xq, maxlen=max_question_len), np.array(Y))"
   ]
  },
  {
   "cell_type": "code",
   "execution_count": 0,
   "metadata": {
    "colab": {},
    "colab_type": "code",
    "id": "V2FYgt2GaJLM"
   },
   "outputs": [],
   "source": [
    "inputs_train, questions_train, answers_train = vectorize_stories(train_data)"
   ]
  },
  {
   "cell_type": "code",
   "execution_count": 0,
   "metadata": {
    "colab": {},
    "colab_type": "code",
    "id": "PIEEFpIbaKud"
   },
   "outputs": [],
   "source": [
    "inputs_test, questions_test, answers_test = vectorize_stories(test_data)"
   ]
  },
  {
   "cell_type": "code",
   "execution_count": 29,
   "metadata": {
    "colab": {
     "base_uri": "https://localhost:8080/",
     "height": 191
    },
    "colab_type": "code",
    "id": "hFBBrjCPaQNi",
    "outputId": "c8d951a5-d0e4-47e3-f1f3-e4048bf76bb7"
   },
   "outputs": [
    {
     "data": {
      "text/plain": [
       "array([ 0,  0,  0,  0,  0,  0,  0,  0,  0,  0,  0,  0,  0,  0,  0,  0,  0,\n",
       "        0,  0,  0,  0,  0,  0,  0,  0,  0,  0,  0,  0,  0,  0,  0,  0,  0,\n",
       "        0,  0,  0,  0,  0,  0,  0,  0,  0,  0,  0,  0,  0,  0,  0,  0,  0,\n",
       "        0,  0,  0,  0,  0,  0,  0,  0,  0,  0,  0,  0,  0,  0,  0,  0,  0,\n",
       "        0,  0,  0,  0,  0,  0,  0,  0,  0,  0,  0,  0,  0,  0,  0,  0,  0,\n",
       "        0,  0,  0,  0,  0,  0,  0,  0,  0,  0,  0,  0,  0,  0,  0,  0,  0,\n",
       "        0,  0,  0,  0,  0,  0,  0,  0,  0,  0,  0,  0,  0,  0,  0,  0,  0,\n",
       "        0,  0,  0,  0,  0,  0,  0,  0,  0,  0,  0,  0,  0,  0,  0,  0,  0,\n",
       "        0,  0,  0,  0,  0,  0,  0,  0, 36, 16, 29, 30,  6,  4, 21, 24, 29,\n",
       "       30, 28,  4], dtype=int32)"
      ]
     },
     "execution_count": 29,
     "metadata": {
      "tags": []
     },
     "output_type": "execute_result"
    }
   ],
   "source": [
    "inputs_train[0]"
   ]
  },
  {
   "cell_type": "code",
   "execution_count": 30,
   "metadata": {
    "colab": {
     "base_uri": "https://localhost:8080/",
     "height": 225
    },
    "colab_type": "code",
    "id": "giSHRhW5aaj6",
    "outputId": "ceda61c2-337d-4336-af27-b1c81dcf5190"
   },
   "outputs": [
    {
     "data": {
      "text/plain": [
       "['Mary',\n",
       " 'moved',\n",
       " 'to',\n",
       " 'the',\n",
       " 'bathroom',\n",
       " '.',\n",
       " 'Sandra',\n",
       " 'journeyed',\n",
       " 'to',\n",
       " 'the',\n",
       " 'bedroom',\n",
       " '.']"
      ]
     },
     "execution_count": 30,
     "metadata": {
      "tags": []
     },
     "output_type": "execute_result"
    }
   ],
   "source": [
    "train_story_text[0]"
   ]
  },
  {
   "cell_type": "code",
   "execution_count": 31,
   "metadata": {
    "colab": {
     "base_uri": "https://localhost:8080/",
     "height": 35
    },
    "colab_type": "code",
    "id": "TlLObidwadbT",
    "outputId": "98015efb-ed2c-4222-d773-795a891e4341"
   },
   "outputs": [
    {
     "data": {
      "text/plain": [
       "[36, 16, 29, 30, 6, 4, 21, 24, 29, 30, 28, 4]"
      ]
     },
     "execution_count": 31,
     "metadata": {
      "tags": []
     },
     "output_type": "execute_result"
    }
   ],
   "source": [
    "train_story_seq[0]"
   ]
  },
  {
   "cell_type": "code",
   "execution_count": 0,
   "metadata": {
    "colab": {},
    "colab_type": "code",
    "id": "bQo7kdepamM_"
   },
   "outputs": [],
   "source": [
    "#Membangun Network nya\n",
    "#Imports\n",
    "from keras.models import Sequential, Model\n",
    "from keras.layers.embeddings import Embedding\n",
    "from keras.layers import Input, Activation, Dense, Permute, Dropout, add, dot, concatenate, LSTM"
   ]
  },
  {
   "cell_type": "code",
   "execution_count": 33,
   "metadata": {
    "colab": {
     "base_uri": "https://localhost:8080/",
     "height": 107
    },
    "colab_type": "code",
    "id": "kxWIrtbZaz0u",
    "outputId": "818afa27-0bc5-4d74-b710-a97459b34ee3"
   },
   "outputs": [
    {
     "name": "stdout",
     "output_type": "stream",
     "text": [
      "WARNING:tensorflow:From /usr/local/lib/python3.6/dist-packages/keras/backend/tensorflow_backend.py:66: The name tf.get_default_graph is deprecated. Please use tf.compat.v1.get_default_graph instead.\n",
      "\n",
      "WARNING:tensorflow:From /usr/local/lib/python3.6/dist-packages/keras/backend/tensorflow_backend.py:541: The name tf.placeholder is deprecated. Please use tf.compat.v1.placeholder instead.\n",
      "\n"
     ]
    }
   ],
   "source": [
    "#Kita perlu membuat placeholders \n",
    "#Fungsi input diunakan untuk membuat sebuah tensor Keras\n",
    "#PLACEHOLDER shape = (max_story_len,batch_size)\n",
    "#Ini adalah placeholder kita untuk inputs, siap menerima batch stories dan questions\n",
    "input_sequence = Input((max_story_len,)) #Karena kita blm tahu ukuran batch size nya\n",
    "question = Input((max_question_len,))"
   ]
  },
  {
   "cell_type": "code",
   "execution_count": 34,
   "metadata": {
    "colab": {
     "base_uri": "https://localhost:8080/",
     "height": 159
    },
    "colab_type": "code",
    "id": "vx7w2iQ1bQAs",
    "outputId": "980a3526-aa24-41f7-d2ce-58dbf17918bf"
   },
   "outputs": [
    {
     "name": "stdout",
     "output_type": "stream",
     "text": [
      "WARNING:tensorflow:From /usr/local/lib/python3.6/dist-packages/keras/backend/tensorflow_backend.py:4432: The name tf.random_uniform is deprecated. Please use tf.random.uniform instead.\n",
      "\n",
      "WARNING:tensorflow:From /usr/local/lib/python3.6/dist-packages/keras/backend/tensorflow_backend.py:148: The name tf.placeholder_with_default is deprecated. Please use tf.compat.v1.placeholder_with_default instead.\n",
      "\n",
      "WARNING:tensorflow:From /usr/local/lib/python3.6/dist-packages/keras/backend/tensorflow_backend.py:3733: calling dropout (from tensorflow.python.ops.nn_ops) with keep_prob is deprecated and will be removed in a future version.\n",
      "Instructions for updating:\n",
      "Please use `rate` instead of `keep_prob`. Rate should be set to `rate = 1 - keep_prob`.\n"
     ]
    }
   ],
   "source": [
    "#Membuat input encoder M:\n",
    "input_encoder_m = Sequential()\n",
    "input_encoder_m.add(Embedding(input_dim=vocab_len,output_dim = 64)) #From paper\n",
    "input_encoder_m.add(Dropout(0.3))\n",
    "\n",
    "#Outputs: (Samples, story_maxlen,embedding_dim)\n",
    "#Memberikan list dari panjang sampel dimana setiap masing-masing item\n",
    "#memiliki panjang sebesar paniang max story\n",
    "#Dan setiap word di embed di dalam dimensi embedding"
   ]
  },
  {
   "cell_type": "code",
   "execution_count": 0,
   "metadata": {
    "colab": {},
    "colab_type": "code",
    "id": "TOZUgr44bZmy"
   },
   "outputs": [],
   "source": [
    "#Membuat input encoder C:\n",
    "input_encoder_c = Sequential()\n",
    "input_encoder_c.add(Embedding(input_dim=vocab_len,output_dim = max_question_len)) #From paper\n",
    "input_encoder_c.add(Dropout(0.3))\n",
    "\n",
    "#Outputs: (samples, story_maxlen, max_question_len)"
   ]
  },
  {
   "cell_type": "code",
   "execution_count": 0,
   "metadata": {
    "colab": {},
    "colab_type": "code",
    "id": "7VqtJvZAbgjk"
   },
   "outputs": [],
   "source": [
    "#Membuat question encoder:\n",
    "question_encoder = Sequential()\n",
    "question_encoder.add(Embedding(input_dim=vocab_len,output_dim = 64,input_length=max_question_len)) #From paper\n",
    "question_encoder.add(Dropout(0.3))\n",
    "\n",
    "#Outputs: (samples, question_maxlen, embedding_dim)"
   ]
  },
  {
   "cell_type": "code",
   "execution_count": 0,
   "metadata": {
    "colab": {},
    "colab_type": "code",
    "id": "59g7a4wiblh1"
   },
   "outputs": [],
   "source": [
    "#Sekarang, meng encode sequence nya, menempatkan placeholders ke dalam encoder kita\n",
    "input_encoded_m = input_encoder_m(input_sequence)\n",
    "input_encoded_c = input_encoder_c(input_sequence)\n",
    "question_encoded = question_encoder(question)"
   ]
  },
  {
   "cell_type": "code",
   "execution_count": 0,
   "metadata": {
    "colab": {},
    "colab_type": "code",
    "id": "1ZyZDaaKbqtQ"
   },
   "outputs": [],
   "source": [
    "#Menggunakan dot product untuk menghitung kesamaan antara input encoded m dan question\n",
    "match = dot([input_encoded_m,question_encoded], axes = (2,2))\n",
    "match = Activation('softmax')(match)"
   ]
  },
  {
   "cell_type": "code",
   "execution_count": 0,
   "metadata": {
    "colab": {},
    "colab_type": "code",
    "id": "KgPPuOs2bvWS"
   },
   "outputs": [],
   "source": [
    "#Untuk response yg ingin kita add ini match dengan output dari input_encoded_c\n",
    "response = add([match,input_encoded_c])\n",
    "response = Permute((2,1))(response) #Permute Layer: permutes dimensi dari input"
   ]
  },
  {
   "cell_type": "code",
   "execution_count": 0,
   "metadata": {
    "colab": {},
    "colab_type": "code",
    "id": "-bGvMXKEb0eO"
   },
   "outputs": [],
   "source": [
    "#Sekali kita dapat response nya kita bisa concatenate nya dengan question encoded\n",
    "answer = concatenate([response, question_encoded])"
   ]
  },
  {
   "cell_type": "code",
   "execution_count": 41,
   "metadata": {
    "colab": {
     "base_uri": "https://localhost:8080/",
     "height": 35
    },
    "colab_type": "code",
    "id": "6EJRhA79b56E",
    "outputId": "59cdf745-d662-4e20-9d3c-16aca2b4c184"
   },
   "outputs": [
    {
     "data": {
      "text/plain": [
       "<tf.Tensor 'concatenate_1/concat:0' shape=(?, 6, 220) dtype=float32>"
      ]
     },
     "execution_count": 41,
     "metadata": {
      "tags": []
     },
     "output_type": "execute_result"
    }
   ],
   "source": [
    "answer"
   ]
  },
  {
   "cell_type": "code",
   "execution_count": 0,
   "metadata": {
    "colab": {},
    "colab_type": "code",
    "id": "FeO5wVfHb_LU"
   },
   "outputs": [],
   "source": [
    "#Kurangi tensor dari answer dengan sebuah RNN (LSTM)\n",
    "answer = LSTM(32)(answer)"
   ]
  },
  {
   "cell_type": "code",
   "execution_count": 0,
   "metadata": {
    "colab": {},
    "colab_type": "code",
    "id": "oKSk0ANfcDX1"
   },
   "outputs": [],
   "source": [
    "#Regularisasi dengan dropout\n",
    "answer = Dropout(0.5)(answer)\n",
    "#Output layer:\n",
    "answer = Dense(vocab_len)(answer) #Output shape: (Samples, Vocab_size) #Yes atau no dan all 0s"
   ]
  },
  {
   "cell_type": "code",
   "execution_count": 0,
   "metadata": {
    "colab": {},
    "colab_type": "code",
    "id": "DEX_tS_icIZ5"
   },
   "outputs": [],
   "source": [
    "#Sekarang kita perlu output sebuah probability untuk vocab nya, dengan softmax\n",
    "answer = Activation('softmax')(answer)"
   ]
  },
  {
   "cell_type": "code",
   "execution_count": 0,
   "metadata": {
    "colab": {},
    "colab_type": "code",
    "id": "7IyAVQJgcNU6"
   },
   "outputs": [],
   "source": [
    "#Sekarang kita bangun model finalnya\n",
    "model = Model([input_sequence,question], answer)"
   ]
  },
  {
   "cell_type": "code",
   "execution_count": 46,
   "metadata": {
    "colab": {
     "base_uri": "https://localhost:8080/",
     "height": 107
    },
    "colab_type": "code",
    "id": "K7H-x1sgcRsg",
    "outputId": "bf6a4a8e-fb0f-40a2-d55a-193c5185a505"
   },
   "outputs": [
    {
     "name": "stdout",
     "output_type": "stream",
     "text": [
      "WARNING:tensorflow:From /usr/local/lib/python3.6/dist-packages/keras/optimizers.py:793: The name tf.train.Optimizer is deprecated. Please use tf.compat.v1.train.Optimizer instead.\n",
      "\n",
      "WARNING:tensorflow:From /usr/local/lib/python3.6/dist-packages/keras/backend/tensorflow_backend.py:3576: The name tf.log is deprecated. Please use tf.math.log instead.\n",
      "\n"
     ]
    }
   ],
   "source": [
    "model.compile(optimizer='rmsprop', loss = 'categorical_crossentropy', metrics = ['accuracy'])\n",
    "#Kategorikal karena cara training yg kita pilih\n",
    "#Kita sbnrnya dapat melihat kata apapun dari vocab sebagai output\n",
    "#namun, kita seharusnya dapat melihat hanya yes or no"
   ]
  },
  {
   "cell_type": "code",
   "execution_count": 47,
   "metadata": {
    "colab": {
     "base_uri": "https://localhost:8080/",
     "height": 693
    },
    "colab_type": "code",
    "id": "M2Qx05avcYJ8",
    "outputId": "9d67f642-6233-47d3-df2c-898bda40d5be"
   },
   "outputs": [
    {
     "name": "stdout",
     "output_type": "stream",
     "text": [
      "Model: \"model_1\"\n",
      "__________________________________________________________________________________________________\n",
      "Layer (type)                    Output Shape         Param #     Connected to                     \n",
      "==================================================================================================\n",
      "input_1 (InputLayer)            (None, 156)          0                                            \n",
      "__________________________________________________________________________________________________\n",
      "input_2 (InputLayer)            (None, 6)            0                                            \n",
      "__________________________________________________________________________________________________\n",
      "sequential_1 (Sequential)       multiple             2432        input_1[0][0]                    \n",
      "__________________________________________________________________________________________________\n",
      "sequential_3 (Sequential)       (None, 6, 64)        2432        input_2[0][0]                    \n",
      "__________________________________________________________________________________________________\n",
      "dot_1 (Dot)                     (None, 156, 6)       0           sequential_1[1][0]               \n",
      "                                                                 sequential_3[1][0]               \n",
      "__________________________________________________________________________________________________\n",
      "activation_1 (Activation)       (None, 156, 6)       0           dot_1[0][0]                      \n",
      "__________________________________________________________________________________________________\n",
      "sequential_2 (Sequential)       multiple             228         input_1[0][0]                    \n",
      "__________________________________________________________________________________________________\n",
      "add_1 (Add)                     (None, 156, 6)       0           activation_1[0][0]               \n",
      "                                                                 sequential_2[1][0]               \n",
      "__________________________________________________________________________________________________\n",
      "permute_1 (Permute)             (None, 6, 156)       0           add_1[0][0]                      \n",
      "__________________________________________________________________________________________________\n",
      "concatenate_1 (Concatenate)     (None, 6, 220)       0           permute_1[0][0]                  \n",
      "                                                                 sequential_3[1][0]               \n",
      "__________________________________________________________________________________________________\n",
      "lstm_1 (LSTM)                   (None, 32)           32384       concatenate_1[0][0]              \n",
      "__________________________________________________________________________________________________\n",
      "dropout_4 (Dropout)             (None, 32)           0           lstm_1[0][0]                     \n",
      "__________________________________________________________________________________________________\n",
      "dense_1 (Dense)                 (None, 38)           1254        dropout_4[0][0]                  \n",
      "__________________________________________________________________________________________________\n",
      "activation_2 (Activation)       (None, 38)           0           dense_1[0][0]                    \n",
      "==================================================================================================\n",
      "Total params: 38,730\n",
      "Trainable params: 38,730\n",
      "Non-trainable params: 0\n",
      "__________________________________________________________________________________________________\n"
     ]
    }
   ],
   "source": [
    "#Summary dari Model\n",
    "model.summary()"
   ]
  },
  {
   "cell_type": "code",
   "execution_count": 48,
   "metadata": {
    "colab": {
     "base_uri": "https://localhost:8080/",
     "height": 1000
    },
    "colab_type": "code",
    "id": "n2OH2wngcdW4",
    "outputId": "82631f2d-7c4e-4509-d1e7-0035117a6b8a"
   },
   "outputs": [
    {
     "name": "stdout",
     "output_type": "stream",
     "text": [
      "WARNING:tensorflow:From /usr/local/lib/python3.6/dist-packages/tensorflow_core/python/ops/math_grad.py:1424: where (from tensorflow.python.ops.array_ops) is deprecated and will be removed in a future version.\n",
      "Instructions for updating:\n",
      "Use tf.where in 2.0, which has the same broadcast rule as np.where\n",
      "WARNING:tensorflow:From /usr/local/lib/python3.6/dist-packages/keras/backend/tensorflow_backend.py:1033: The name tf.assign_add is deprecated. Please use tf.compat.v1.assign_add instead.\n",
      "\n",
      "WARNING:tensorflow:From /usr/local/lib/python3.6/dist-packages/keras/backend/tensorflow_backend.py:1020: The name tf.assign is deprecated. Please use tf.compat.v1.assign instead.\n",
      "\n",
      "WARNING:tensorflow:From /usr/local/lib/python3.6/dist-packages/keras/backend/tensorflow_backend.py:3005: The name tf.Session is deprecated. Please use tf.compat.v1.Session instead.\n",
      "\n",
      "Train on 10000 samples, validate on 1000 samples\n",
      "Epoch 1/100\n",
      "WARNING:tensorflow:From /usr/local/lib/python3.6/dist-packages/keras/backend/tensorflow_backend.py:190: The name tf.get_default_session is deprecated. Please use tf.compat.v1.get_default_session instead.\n",
      "\n",
      "WARNING:tensorflow:From /usr/local/lib/python3.6/dist-packages/keras/backend/tensorflow_backend.py:197: The name tf.ConfigProto is deprecated. Please use tf.compat.v1.ConfigProto instead.\n",
      "\n",
      "WARNING:tensorflow:From /usr/local/lib/python3.6/dist-packages/keras/backend/tensorflow_backend.py:207: The name tf.global_variables is deprecated. Please use tf.compat.v1.global_variables instead.\n",
      "\n",
      "WARNING:tensorflow:From /usr/local/lib/python3.6/dist-packages/keras/backend/tensorflow_backend.py:216: The name tf.is_variable_initialized is deprecated. Please use tf.compat.v1.is_variable_initialized instead.\n",
      "\n",
      "WARNING:tensorflow:From /usr/local/lib/python3.6/dist-packages/keras/backend/tensorflow_backend.py:223: The name tf.variables_initializer is deprecated. Please use tf.compat.v1.variables_initializer instead.\n",
      "\n",
      "10000/10000 [==============================] - 7s 696us/step - loss: 0.9263 - acc: 0.4941 - val_loss: 0.6945 - val_acc: 0.4970\n",
      "Epoch 2/100\n",
      "10000/10000 [==============================] - 5s 544us/step - loss: 0.7038 - acc: 0.5017 - val_loss: 0.6934 - val_acc: 0.5030\n",
      "Epoch 3/100\n",
      "10000/10000 [==============================] - 5s 546us/step - loss: 0.6954 - acc: 0.5068 - val_loss: 0.6933 - val_acc: 0.4970\n",
      "Epoch 4/100\n",
      "10000/10000 [==============================] - 5s 545us/step - loss: 0.6948 - acc: 0.5016 - val_loss: 0.6935 - val_acc: 0.4970\n",
      "Epoch 5/100\n",
      "10000/10000 [==============================] - 6s 572us/step - loss: 0.6940 - acc: 0.5058 - val_loss: 0.6932 - val_acc: 0.5030\n",
      "Epoch 6/100\n",
      "10000/10000 [==============================] - 6s 581us/step - loss: 0.6944 - acc: 0.5066 - val_loss: 0.6940 - val_acc: 0.5030\n",
      "Epoch 7/100\n",
      "10000/10000 [==============================] - 6s 565us/step - loss: 0.6941 - acc: 0.5074 - val_loss: 0.6950 - val_acc: 0.4970\n",
      "Epoch 8/100\n",
      "10000/10000 [==============================] - 6s 553us/step - loss: 0.6942 - acc: 0.5065 - val_loss: 0.6937 - val_acc: 0.4760\n",
      "Epoch 9/100\n",
      "10000/10000 [==============================] - 5s 543us/step - loss: 0.6940 - acc: 0.5062 - val_loss: 0.6939 - val_acc: 0.4870\n",
      "Epoch 10/100\n",
      "10000/10000 [==============================] - 6s 563us/step - loss: 0.6919 - acc: 0.5205 - val_loss: 0.6927 - val_acc: 0.5290\n",
      "Epoch 11/100\n",
      "10000/10000 [==============================] - 5s 529us/step - loss: 0.6846 - acc: 0.5467 - val_loss: 0.6790 - val_acc: 0.5680\n",
      "Epoch 12/100\n",
      "10000/10000 [==============================] - 5s 532us/step - loss: 0.6672 - acc: 0.5913 - val_loss: 0.6580 - val_acc: 0.6180\n",
      "Epoch 13/100\n",
      "10000/10000 [==============================] - 5s 519us/step - loss: 0.6494 - acc: 0.6302 - val_loss: 0.6223 - val_acc: 0.6860\n",
      "Epoch 14/100\n",
      "10000/10000 [==============================] - 5s 548us/step - loss: 0.6173 - acc: 0.6727 - val_loss: 0.5626 - val_acc: 0.7160\n",
      "Epoch 15/100\n",
      "10000/10000 [==============================] - 6s 551us/step - loss: 0.5704 - acc: 0.7227 - val_loss: 0.5070 - val_acc: 0.7660\n",
      "Epoch 16/100\n",
      "10000/10000 [==============================] - 6s 575us/step - loss: 0.5175 - acc: 0.7566 - val_loss: 0.4434 - val_acc: 0.8050\n",
      "Epoch 17/100\n",
      "10000/10000 [==============================] - 6s 569us/step - loss: 0.4673 - acc: 0.7911 - val_loss: 0.4161 - val_acc: 0.8260\n",
      "Epoch 18/100\n",
      "10000/10000 [==============================] - 5s 547us/step - loss: 0.4406 - acc: 0.8051 - val_loss: 0.4421 - val_acc: 0.7980\n",
      "Epoch 19/100\n",
      "10000/10000 [==============================] - 5s 536us/step - loss: 0.4173 - acc: 0.8168 - val_loss: 0.3883 - val_acc: 0.8120\n",
      "Epoch 20/100\n",
      "10000/10000 [==============================] - 5s 544us/step - loss: 0.4049 - acc: 0.8231 - val_loss: 0.3769 - val_acc: 0.8230\n",
      "Epoch 21/100\n",
      "10000/10000 [==============================] - 5s 548us/step - loss: 0.3857 - acc: 0.8291 - val_loss: 0.3762 - val_acc: 0.8240\n",
      "Epoch 22/100\n",
      "10000/10000 [==============================] - 5s 519us/step - loss: 0.3763 - acc: 0.8378 - val_loss: 0.3685 - val_acc: 0.8260\n",
      "Epoch 23/100\n",
      "10000/10000 [==============================] - 5s 513us/step - loss: 0.3607 - acc: 0.8433 - val_loss: 0.3737 - val_acc: 0.8270\n",
      "Epoch 24/100\n",
      "10000/10000 [==============================] - 6s 570us/step - loss: 0.3538 - acc: 0.8448 - val_loss: 0.3642 - val_acc: 0.8280\n",
      "Epoch 25/100\n",
      "10000/10000 [==============================] - 5s 543us/step - loss: 0.3445 - acc: 0.8503 - val_loss: 0.3650 - val_acc: 0.8240\n",
      "Epoch 26/100\n",
      "10000/10000 [==============================] - 5s 517us/step - loss: 0.3343 - acc: 0.8516 - val_loss: 0.3477 - val_acc: 0.8330\n",
      "Epoch 27/100\n",
      "10000/10000 [==============================] - 6s 594us/step - loss: 0.3357 - acc: 0.8523 - val_loss: 0.3594 - val_acc: 0.8310\n",
      "Epoch 28/100\n",
      "10000/10000 [==============================] - 6s 550us/step - loss: 0.3342 - acc: 0.8537 - val_loss: 0.3532 - val_acc: 0.8370\n",
      "Epoch 29/100\n",
      "10000/10000 [==============================] - 5s 525us/step - loss: 0.3264 - acc: 0.8575 - val_loss: 0.3466 - val_acc: 0.8320\n",
      "Epoch 30/100\n",
      "10000/10000 [==============================] - 5s 549us/step - loss: 0.3184 - acc: 0.8607 - val_loss: 0.3589 - val_acc: 0.8370\n",
      "Epoch 31/100\n",
      "10000/10000 [==============================] - 5s 537us/step - loss: 0.3195 - acc: 0.8601 - val_loss: 0.3683 - val_acc: 0.8330\n",
      "Epoch 32/100\n",
      "10000/10000 [==============================] - 5s 537us/step - loss: 0.3152 - acc: 0.8623 - val_loss: 0.3531 - val_acc: 0.8390\n",
      "Epoch 33/100\n",
      "10000/10000 [==============================] - 5s 505us/step - loss: 0.3167 - acc: 0.8612 - val_loss: 0.3469 - val_acc: 0.8310\n",
      "Epoch 34/100\n",
      "10000/10000 [==============================] - 6s 550us/step - loss: 0.3131 - acc: 0.8629 - val_loss: 0.3557 - val_acc: 0.8350\n",
      "Epoch 35/100\n",
      "10000/10000 [==============================] - 5s 536us/step - loss: 0.3083 - acc: 0.8665 - val_loss: 0.3631 - val_acc: 0.8330\n",
      "Epoch 36/100\n",
      "10000/10000 [==============================] - 5s 524us/step - loss: 0.3092 - acc: 0.8648 - val_loss: 0.3469 - val_acc: 0.8390\n",
      "Epoch 37/100\n",
      "10000/10000 [==============================] - 5s 524us/step - loss: 0.3066 - acc: 0.8646 - val_loss: 0.3419 - val_acc: 0.8320\n",
      "Epoch 38/100\n",
      "10000/10000 [==============================] - 6s 587us/step - loss: 0.3057 - acc: 0.8656 - val_loss: 0.3512 - val_acc: 0.8320\n",
      "Epoch 39/100\n",
      "10000/10000 [==============================] - 6s 553us/step - loss: 0.3028 - acc: 0.8658 - val_loss: 0.3482 - val_acc: 0.8360\n",
      "Epoch 40/100\n",
      "10000/10000 [==============================] - 5s 502us/step - loss: 0.2987 - acc: 0.8685 - val_loss: 0.3743 - val_acc: 0.8330\n",
      "Epoch 41/100\n",
      "10000/10000 [==============================] - 6s 559us/step - loss: 0.2981 - acc: 0.8692 - val_loss: 0.3536 - val_acc: 0.8350\n",
      "Epoch 42/100\n",
      "10000/10000 [==============================] - 5s 523us/step - loss: 0.3003 - acc: 0.8684 - val_loss: 0.3599 - val_acc: 0.8370\n",
      "Epoch 43/100\n",
      "10000/10000 [==============================] - 6s 557us/step - loss: 0.2965 - acc: 0.8673 - val_loss: 0.3518 - val_acc: 0.8330\n",
      "Epoch 44/100\n",
      "10000/10000 [==============================] - 6s 592us/step - loss: 0.2999 - acc: 0.8690 - val_loss: 0.3462 - val_acc: 0.8330\n",
      "Epoch 45/100\n",
      "10000/10000 [==============================] - 5s 547us/step - loss: 0.2947 - acc: 0.8734 - val_loss: 0.3684 - val_acc: 0.8350\n",
      "Epoch 46/100\n",
      "10000/10000 [==============================] - 5s 504us/step - loss: 0.2916 - acc: 0.8730 - val_loss: 0.3498 - val_acc: 0.8380\n",
      "Epoch 47/100\n",
      "10000/10000 [==============================] - 5s 533us/step - loss: 0.2877 - acc: 0.8736 - val_loss: 0.3634 - val_acc: 0.8320\n",
      "Epoch 48/100\n",
      "10000/10000 [==============================] - 5s 543us/step - loss: 0.2941 - acc: 0.8713 - val_loss: 0.3373 - val_acc: 0.8450\n",
      "Epoch 49/100\n",
      "10000/10000 [==============================] - 5s 537us/step - loss: 0.2880 - acc: 0.8731 - val_loss: 0.3570 - val_acc: 0.8370\n",
      "Epoch 50/100\n",
      "10000/10000 [==============================] - 5s 500us/step - loss: 0.2891 - acc: 0.8738 - val_loss: 0.3561 - val_acc: 0.8400\n",
      "Epoch 51/100\n",
      "10000/10000 [==============================] - 5s 532us/step - loss: 0.2908 - acc: 0.8734 - val_loss: 0.3617 - val_acc: 0.8290\n",
      "Epoch 52/100\n",
      "10000/10000 [==============================] - 5s 534us/step - loss: 0.2887 - acc: 0.8728 - val_loss: 0.3496 - val_acc: 0.8320\n",
      "Epoch 53/100\n",
      "10000/10000 [==============================] - 5s 508us/step - loss: 0.2897 - acc: 0.8735 - val_loss: 0.3535 - val_acc: 0.8300\n",
      "Epoch 54/100\n",
      "10000/10000 [==============================] - 5s 464us/step - loss: 0.2830 - acc: 0.8739 - val_loss: 0.3458 - val_acc: 0.8310\n",
      "Epoch 55/100\n",
      "10000/10000 [==============================] - 5s 543us/step - loss: 0.2829 - acc: 0.8758 - val_loss: 0.3544 - val_acc: 0.8290\n",
      "Epoch 56/100\n",
      "10000/10000 [==============================] - 5s 507us/step - loss: 0.2828 - acc: 0.8776 - val_loss: 0.3553 - val_acc: 0.8330\n",
      "Epoch 57/100\n",
      "10000/10000 [==============================] - 5s 488us/step - loss: 0.2874 - acc: 0.8759 - val_loss: 0.3688 - val_acc: 0.8340\n",
      "Epoch 58/100\n",
      "10000/10000 [==============================] - 5s 509us/step - loss: 0.2833 - acc: 0.8769 - val_loss: 0.3509 - val_acc: 0.8350\n",
      "Epoch 59/100\n",
      "10000/10000 [==============================] - 5s 547us/step - loss: 0.2784 - acc: 0.8771 - val_loss: 0.3559 - val_acc: 0.8330\n",
      "Epoch 60/100\n",
      "10000/10000 [==============================] - 5s 525us/step - loss: 0.2765 - acc: 0.8819 - val_loss: 0.3676 - val_acc: 0.8330\n",
      "Epoch 61/100\n",
      "10000/10000 [==============================] - 5s 497us/step - loss: 0.2773 - acc: 0.8763 - val_loss: 0.3809 - val_acc: 0.8260\n",
      "Epoch 62/100\n",
      "10000/10000 [==============================] - 6s 552us/step - loss: 0.2774 - acc: 0.8778 - val_loss: 0.3681 - val_acc: 0.8330\n",
      "Epoch 63/100\n",
      "10000/10000 [==============================] - 5s 534us/step - loss: 0.2784 - acc: 0.8791 - val_loss: 0.3556 - val_acc: 0.8380\n",
      "Epoch 64/100\n",
      "10000/10000 [==============================] - 5s 535us/step - loss: 0.2753 - acc: 0.8788 - val_loss: 0.3574 - val_acc: 0.8270\n",
      "Epoch 65/100\n",
      "10000/10000 [==============================] - 5s 522us/step - loss: 0.2799 - acc: 0.8796 - val_loss: 0.3763 - val_acc: 0.8330\n",
      "Epoch 66/100\n",
      "10000/10000 [==============================] - 5s 535us/step - loss: 0.2766 - acc: 0.8824 - val_loss: 0.3688 - val_acc: 0.8350\n",
      "Epoch 67/100\n",
      "10000/10000 [==============================] - 5s 496us/step - loss: 0.2740 - acc: 0.8812 - val_loss: 0.3709 - val_acc: 0.8240\n",
      "Epoch 68/100\n",
      "10000/10000 [==============================] - 5s 484us/step - loss: 0.2721 - acc: 0.8808 - val_loss: 0.3685 - val_acc: 0.8370\n",
      "Epoch 69/100\n",
      "10000/10000 [==============================] - 5s 537us/step - loss: 0.2754 - acc: 0.8772 - val_loss: 0.3580 - val_acc: 0.8390\n",
      "Epoch 70/100\n",
      "10000/10000 [==============================] - 5s 542us/step - loss: 0.2733 - acc: 0.8806 - val_loss: 0.3623 - val_acc: 0.8300\n",
      "Epoch 71/100\n",
      "10000/10000 [==============================] - 5s 492us/step - loss: 0.2699 - acc: 0.8822 - val_loss: 0.3707 - val_acc: 0.8400\n",
      "Epoch 72/100\n",
      "10000/10000 [==============================] - 5s 536us/step - loss: 0.2682 - acc: 0.8814 - val_loss: 0.3733 - val_acc: 0.8280\n",
      "Epoch 73/100\n",
      "10000/10000 [==============================] - 6s 551us/step - loss: 0.2647 - acc: 0.8820 - val_loss: 0.3666 - val_acc: 0.8340\n",
      "Epoch 74/100\n",
      "10000/10000 [==============================] - 5s 510us/step - loss: 0.2678 - acc: 0.8861 - val_loss: 0.3696 - val_acc: 0.8330\n",
      "Epoch 75/100\n",
      "10000/10000 [==============================] - 5s 515us/step - loss: 0.2709 - acc: 0.8813 - val_loss: 0.3736 - val_acc: 0.8290\n",
      "Epoch 76/100\n",
      "10000/10000 [==============================] - 5s 532us/step - loss: 0.2721 - acc: 0.8841 - val_loss: 0.3684 - val_acc: 0.8250\n",
      "Epoch 77/100\n",
      "10000/10000 [==============================] - 5s 535us/step - loss: 0.2656 - acc: 0.8840 - val_loss: 0.3843 - val_acc: 0.8280\n",
      "Epoch 78/100\n",
      "10000/10000 [==============================] - 5s 505us/step - loss: 0.2640 - acc: 0.8846 - val_loss: 0.3641 - val_acc: 0.8350\n",
      "Epoch 79/100\n",
      "10000/10000 [==============================] - 5s 481us/step - loss: 0.2627 - acc: 0.8839 - val_loss: 0.3713 - val_acc: 0.8340\n",
      "Epoch 80/100\n",
      "10000/10000 [==============================] - 6s 554us/step - loss: 0.2644 - acc: 0.8868 - val_loss: 0.3861 - val_acc: 0.8290\n",
      "Epoch 81/100\n",
      "10000/10000 [==============================] - 5s 539us/step - loss: 0.2596 - acc: 0.8889 - val_loss: 0.3734 - val_acc: 0.8380\n",
      "Epoch 82/100\n",
      "10000/10000 [==============================] - 5s 490us/step - loss: 0.2601 - acc: 0.8861 - val_loss: 0.3792 - val_acc: 0.8230\n",
      "Epoch 83/100\n",
      "10000/10000 [==============================] - 5s 501us/step - loss: 0.2566 - acc: 0.8875 - val_loss: 0.3828 - val_acc: 0.8310\n",
      "Epoch 84/100\n",
      "10000/10000 [==============================] - 6s 554us/step - loss: 0.2595 - acc: 0.8880 - val_loss: 0.3941 - val_acc: 0.8310\n",
      "Epoch 85/100\n",
      "10000/10000 [==============================] - 5s 524us/step - loss: 0.2513 - acc: 0.8910 - val_loss: 0.3923 - val_acc: 0.8200\n",
      "Epoch 86/100\n",
      "10000/10000 [==============================] - 5s 486us/step - loss: 0.2519 - acc: 0.8893 - val_loss: 0.4046 - val_acc: 0.8190\n",
      "Epoch 87/100\n",
      "10000/10000 [==============================] - 5s 527us/step - loss: 0.2566 - acc: 0.8891 - val_loss: 0.3932 - val_acc: 0.8350\n",
      "Epoch 88/100\n",
      "10000/10000 [==============================] - 5s 536us/step - loss: 0.2492 - acc: 0.8926 - val_loss: 0.3951 - val_acc: 0.8250\n",
      "Epoch 89/100\n",
      "10000/10000 [==============================] - 5s 500us/step - loss: 0.2487 - acc: 0.8943 - val_loss: 0.4370 - val_acc: 0.8250\n",
      "Epoch 90/100\n",
      "10000/10000 [==============================] - 5s 506us/step - loss: 0.2570 - acc: 0.8944 - val_loss: 0.3982 - val_acc: 0.8220\n",
      "Epoch 91/100\n",
      "10000/10000 [==============================] - 5s 533us/step - loss: 0.2495 - acc: 0.8922 - val_loss: 0.4117 - val_acc: 0.8200\n",
      "Epoch 92/100\n",
      "10000/10000 [==============================] - 5s 500us/step - loss: 0.2431 - acc: 0.8942 - val_loss: 0.3780 - val_acc: 0.8330\n",
      "Epoch 93/100\n",
      "10000/10000 [==============================] - 5s 515us/step - loss: 0.2439 - acc: 0.8942 - val_loss: 0.4178 - val_acc: 0.8360\n",
      "Epoch 94/100\n",
      "10000/10000 [==============================] - 5s 492us/step - loss: 0.2472 - acc: 0.8940 - val_loss: 0.4123 - val_acc: 0.8220\n",
      "Epoch 95/100\n",
      "10000/10000 [==============================] - 6s 569us/step - loss: 0.2403 - acc: 0.8972 - val_loss: 0.3915 - val_acc: 0.8300\n",
      "Epoch 96/100\n",
      "10000/10000 [==============================] - 5s 516us/step - loss: 0.2437 - acc: 0.8946 - val_loss: 0.4187 - val_acc: 0.8210\n",
      "Epoch 97/100\n",
      "10000/10000 [==============================] - 5s 494us/step - loss: 0.2448 - acc: 0.8941 - val_loss: 0.3947 - val_acc: 0.8300\n",
      "Epoch 98/100\n",
      "10000/10000 [==============================] - 6s 554us/step - loss: 0.2436 - acc: 0.8961 - val_loss: 0.4021 - val_acc: 0.8270\n",
      "Epoch 99/100\n",
      "10000/10000 [==============================] - 5s 515us/step - loss: 0.2505 - acc: 0.8907 - val_loss: 0.4000 - val_acc: 0.8200\n",
      "Epoch 100/100\n",
      "10000/10000 [==============================] - 5s 491us/step - loss: 0.2365 - acc: 0.8984 - val_loss: 0.4126 - val_acc: 0.8240\n"
     ]
    }
   ],
   "source": [
    "#Training dan testing modelnya\n",
    "history = model.fit([inputs_train,questions_train],answers_train, batch_size = 32, epochs = 100, validation_data = ([inputs_test,questions_test],answers_test))"
   ]
  },
  {
   "cell_type": "code",
   "execution_count": 0,
   "metadata": {
    "colab": {},
    "colab_type": "code",
    "id": "IwHKik4O1AgW"
   },
   "outputs": [],
   "source": [
    "filename = 'Z_chatbot_100_epochs.h5'\n",
    "model.save(filename)"
   ]
  },
  {
   "cell_type": "code",
   "execution_count": 50,
   "metadata": {
    "colab": {
     "base_uri": "https://localhost:8080/",
     "height": 747
    },
    "colab_type": "code",
    "id": "3PtVAz3q15wy",
    "outputId": "f3ac6db1-c7d1-4c96-ac86-d7eaf8da3ae3"
   },
   "outputs": [
    {
     "name": "stdout",
     "output_type": "stream",
     "text": [
      "dict_keys(['val_loss', 'val_acc', 'loss', 'acc'])\n"
     ]
    },
    {
     "data": {
      "image/png": "[encoded data removed]",
      "text/plain": [
       "<Figure size 864x864 with 1 Axes>"
      ]
     },
     "metadata": {
      "tags": []
     },
     "output_type": "display_data"
    }
   ],
   "source": [
    "#Mem plot kenaikan akurasi sejalan dengan kita tingkatkan jumlah tarining epochs\n",
    "#Kita dapat melihat bahwa tanpa trainig akurasinya sekitar 50%, tebak acak\n",
    "import matplotlib.pyplot as plt\n",
    "%matplotlib inline\n",
    "print(history.history.keys())\n",
    "#Summary history untuk akurasi\n",
    "plt.figure(figsize=(12,12))\n",
    "plt.plot(history.history['acc'])\n",
    "plt.plot(history.history['val_acc'])\n",
    "plt.title('model accuracy')\n",
    "plt.ylabel('accuracy')\n",
    "plt.xlabel('epoch')\n",
    "plt.legend(['train', 'test'], loc='upper left')\n",
    "plt.show()"
   ]
  },
  {
   "cell_type": "code",
   "execution_count": 0,
   "metadata": {
    "colab": {},
    "colab_type": "code",
    "id": "GbFAmVvsNNG2"
   },
   "outputs": [],
   "source": [
    "#Load model yg sudah kita train dan simpan\n",
    "model.load_weights('Z_chatbot_100_epochs.h5')"
   ]
  },
  {
   "cell_type": "code",
   "execution_count": 0,
   "metadata": {
    "colab": {},
    "colab_type": "code",
    "id": "bj-Yv2CWNWhE"
   },
   "outputs": [],
   "source": [
    "#Memeriksa prediksi pada test set\n",
    "#Probabilitas utk setiap masing-masing kata di vocab\n",
    "pred_results = model.predict(([inputs_test,questions_test]))"
   ]
  },
  {
   "cell_type": "code",
   "execution_count": 53,
   "metadata": {
    "colab": {
     "base_uri": "https://localhost:8080/",
     "height": 260
    },
    "colab_type": "code",
    "id": "wjvQKVUaNloN",
    "outputId": "22ce2f21-36d7-48ef-bd37-b85ddf86447a"
   },
   "outputs": [
    {
     "data": {
      "text/plain": [
       "(['Mary',\n",
       "  'got',\n",
       "  'the',\n",
       "  'milk',\n",
       "  'there',\n",
       "  '.',\n",
       "  'John',\n",
       "  'moved',\n",
       "  'to',\n",
       "  'the',\n",
       "  'bedroom',\n",
       "  '.'],\n",
       " ['Is', 'John', 'in', 'the', 'kitchen', '?'],\n",
       " 'no')"
      ]
     },
     "execution_count": 53,
     "metadata": {
      "tags": []
     },
     "output_type": "execute_result"
    }
   ],
   "source": [
    "#Test data point\n",
    "test_data[0]"
   ]
  },
  {
   "cell_type": "code",
   "execution_count": 54,
   "metadata": {
    "colab": {
     "base_uri": "https://localhost:8080/",
     "height": 191
    },
    "colab_type": "code",
    "id": "mm5iPthrNxsW",
    "outputId": "05ddbf5f-1476-42cc-a7d0-83189fd3a7cb"
   },
   "outputs": [
    {
     "data": {
      "text/plain": [
       "array([2.1341461e-15, 2.2670773e-15, 2.6102163e-15, 2.1703441e-15,\n",
       "       2.4874099e-15, 2.6484099e-15, 2.4458680e-15, 2.4023974e-15,\n",
       "       2.8556397e-15, 2.6296750e-15, 2.8612117e-15, 2.1914502e-15,\n",
       "       2.6382357e-15, 3.2320641e-15, 2.8597276e-15, 2.3049668e-15,\n",
       "       2.1675471e-15, 2.5403043e-15, 2.5445037e-15, 2.4755300e-15,\n",
       "       2.0717073e-15, 2.9803352e-15, 2.4965834e-15, 2.3474805e-15,\n",
       "       2.2195842e-15, 2.7222525e-15, 2.7874677e-15, 9.9999475e-01,\n",
       "       2.7689636e-15, 2.7653326e-15, 2.3134323e-15, 2.9331220e-15,\n",
       "       2.8221444e-15, 2.1258744e-15, 2.4554877e-15, 5.2191549e-06,\n",
       "       2.2696906e-15, 3.0180442e-15], dtype=float32)"
      ]
     },
     "execution_count": 54,
     "metadata": {
      "tags": []
     },
     "output_type": "execute_result"
    }
   ],
   "source": [
    "#Ini adalah probabilities-probabilities utk vocab words menggunakan kalimat pertama\n",
    "pred_results[0]"
   ]
  },
  {
   "cell_type": "code",
   "execution_count": 0,
   "metadata": {
    "colab": {},
    "colab_type": "code",
    "id": "i9lt1DNbODX8"
   },
   "outputs": [],
   "source": [
    "val_max = np.argmax(pred_results[0])"
   ]
  },
  {
   "cell_type": "code",
   "execution_count": 56,
   "metadata": {
    "colab": {
     "base_uri": "https://localhost:8080/",
     "height": 35
    },
    "colab_type": "code",
    "id": "Zn8kC_WlOGmP",
    "outputId": "9fb2756c-13fa-404c-a003-bfc5c577118e"
   },
   "outputs": [
    {
     "name": "stdout",
     "output_type": "stream",
     "text": [
      "no\n"
     ]
    }
   ],
   "source": [
    "for key,val in tokenizer.word_index.items():\n",
    "    if val == val_max:\n",
    "        k = key\n",
    "print(k)"
   ]
  },
  {
   "cell_type": "code",
   "execution_count": 57,
   "metadata": {
    "colab": {
     "base_uri": "https://localhost:8080/",
     "height": 35
    },
    "colab_type": "code",
    "id": "LUh77Rp6OJ1F",
    "outputId": "ff4244fa-337e-478a-c9d5-c4b74a80f77e"
   },
   "outputs": [
    {
     "data": {
      "text/plain": [
       "0.99999475"
      ]
     },
     "execution_count": 57,
     "metadata": {
      "tags": []
     },
     "output_type": "execute_result"
    }
   ],
   "source": [
    "#Melihat probability (pada code asli hasilnya prob 1.0)\n",
    "#Pada code aslinya epoch ditentukan 1000, namun saya hanya menjalankan 100 karena\n",
    "#PC selalu hang di tengah-tengah prosesnya\n",
    "pred_results[0][val_max]"
   ]
  },
  {
   "cell_type": "code",
   "execution_count": 58,
   "metadata": {
    "colab": {
     "base_uri": "https://localhost:8080/",
     "height": 659
    },
    "colab_type": "code",
    "id": "nroZdjypOorG",
    "outputId": "fcbcc42d-87fb-4138-8303-62fdb5c7feae"
   },
   "outputs": [
    {
     "data": {
      "text/plain": [
       "{'.',\n",
       " '?',\n",
       " 'Daniel',\n",
       " 'Is',\n",
       " 'John',\n",
       " 'Mary',\n",
       " 'Sandra',\n",
       " 'apple',\n",
       " 'back',\n",
       " 'bathroom',\n",
       " 'bedroom',\n",
       " 'discarded',\n",
       " 'down',\n",
       " 'dropped',\n",
       " 'football',\n",
       " 'garden',\n",
       " 'got',\n",
       " 'grabbed',\n",
       " 'hallway',\n",
       " 'in',\n",
       " 'journeyed',\n",
       " 'kitchen',\n",
       " 'left',\n",
       " 'milk',\n",
       " 'moved',\n",
       " 'no',\n",
       " 'office',\n",
       " 'picked',\n",
       " 'put',\n",
       " 'the',\n",
       " 'there',\n",
       " 'to',\n",
       " 'took',\n",
       " 'travelled',\n",
       " 'up',\n",
       " 'went',\n",
       " 'yes'}"
      ]
     },
     "execution_count": 58,
     "metadata": {
      "tags": []
     },
     "output_type": "execute_result"
    }
   ],
   "source": [
    "#Sekarang kita dapat membuat question kita sendiri menggunakan vocab yg kita punya\n",
    "vocab"
   ]
  },
  {
   "cell_type": "code",
   "execution_count": 0,
   "metadata": {
    "colab": {},
    "colab_type": "code",
    "id": "uXbQZ6h4O2PJ"
   },
   "outputs": [],
   "source": [
    "my_story = 'Sandra picked up the milk . Mary travelled left . '"
   ]
  },
  {
   "cell_type": "code",
   "execution_count": 60,
   "metadata": {
    "colab": {
     "base_uri": "https://localhost:8080/",
     "height": 191
    },
    "colab_type": "code",
    "id": "l6q-w6DTO9uz",
    "outputId": "bee8d690-b902-4ca2-8cb1-f0cc27535424"
   },
   "outputs": [
    {
     "data": {
      "text/plain": [
       "['Sandra',\n",
       " 'picked',\n",
       " 'up',\n",
       " 'the',\n",
       " 'milk',\n",
       " '.',\n",
       " 'Mary',\n",
       " 'travelled',\n",
       " 'left',\n",
       " '.']"
      ]
     },
     "execution_count": 60,
     "metadata": {
      "tags": []
     },
     "output_type": "execute_result"
    }
   ],
   "source": [
    "my_story.split()"
   ]
  },
  {
   "cell_type": "code",
   "execution_count": 0,
   "metadata": {
    "colab": {},
    "colab_type": "code",
    "id": "UgGXjxk7PClF"
   },
   "outputs": [],
   "source": [
    "my_question = 'Sandra got the milk ?'"
   ]
  },
  {
   "cell_type": "code",
   "execution_count": 62,
   "metadata": {
    "colab": {
     "base_uri": "https://localhost:8080/",
     "height": 35
    },
    "colab_type": "code",
    "id": "DGg5bfBGPELx",
    "outputId": "b8672ee6-3ef4-4c33-ca5a-aa5f359d4024"
   },
   "outputs": [
    {
     "data": {
      "text/plain": [
       "['Sandra', 'got', 'the', 'milk', '?']"
      ]
     },
     "execution_count": 62,
     "metadata": {
      "tags": []
     },
     "output_type": "execute_result"
    }
   ],
   "source": [
    "my_question.split()"
   ]
  },
  {
   "cell_type": "code",
   "execution_count": 0,
   "metadata": {
    "colab": {},
    "colab_type": "code",
    "id": "zvh2r_OvPIfa"
   },
   "outputs": [],
   "source": [
    "#Menempatkan data pada format yg sama spt sblmnya\n",
    "my_data = [(my_story.split(), my_question.split(),'yes')]"
   ]
  },
  {
   "cell_type": "code",
   "execution_count": 0,
   "metadata": {
    "colab": {},
    "colab_type": "code",
    "id": "og5USol5PTUO"
   },
   "outputs": [],
   "source": [
    "#Vectorize data ini\n",
    "my_story, my_ques, my_ans = vectorize_stories(my_data)"
   ]
  },
  {
   "cell_type": "code",
   "execution_count": 0,
   "metadata": {
    "colab": {},
    "colab_type": "code",
    "id": "iD-ZCI60PYPL"
   },
   "outputs": [],
   "source": [
    "#Membuat prediksi\n",
    "pred_results = model.predict(([my_story,my_ques]))"
   ]
  },
  {
   "cell_type": "code",
   "execution_count": 0,
   "metadata": {
    "colab": {},
    "colab_type": "code",
    "id": "NZeQ5qlLPeSy"
   },
   "outputs": [],
   "source": [
    "val_max = np.argmax(pred_results[0])"
   ]
  },
  {
   "cell_type": "code",
   "execution_count": 67,
   "metadata": {
    "colab": {
     "base_uri": "https://localhost:8080/",
     "height": 35
    },
    "colab_type": "code",
    "id": "MlIO6vHVPiWj",
    "outputId": "b3820b13-2bf7-463d-d79e-2411c7d86260"
   },
   "outputs": [
    {
     "name": "stdout",
     "output_type": "stream",
     "text": [
      "yes\n"
     ]
    }
   ],
   "source": [
    "#Prediksi yang benar\n",
    "for key,val in tokenizer.word_index.items():\n",
    "    if val == val_max:\n",
    "        k = key\n",
    "print(k)"
   ]
  },
  {
   "cell_type": "code",
   "execution_count": 68,
   "metadata": {
    "colab": {
     "base_uri": "https://localhost:8080/",
     "height": 35
    },
    "colab_type": "code",
    "id": "DH8hppFvPoej",
    "outputId": "5fcbe05e-c72a-4158-9151-2f43d6f2d295"
   },
   "outputs": [
    {
     "data": {
      "text/plain": [
       "0.9265095"
      ]
     },
     "execution_count": 68,
     "metadata": {
      "tags": []
     },
     "output_type": "execute_result"
    }
   ],
   "source": [
    "#Nilai Confidence nya\n",
    "pred_results[0][val_max]"
   ]
  }
 ],
 "metadata": {
  "accelerator": "GPU",
  "colab": {
   "collapsed_sections": [],
   "name": "33218301-TextClassification-DeepLearning.ipynb",
   "provenance": [],
   "toc_visible": true
  },
  "kernelspec": {
   "display_name": "Python 3",
   "language": "python",
   "name": "python3"
  },
  "language_info": {
   "codemirror_mode": {
    "name": "ipython",
    "version": 3
   },
   "file_extension": ".py",
   "mimetype": "text/x-python",
   "name": "python",
   "nbconvert_exporter": "python",
   "pygments_lexer": "ipython3",
   "version": "3.7.3"
  }
 },
 "nbformat": 4,
 "nbformat_minor": 1
}
